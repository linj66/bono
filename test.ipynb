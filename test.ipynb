{
 "cells": [
  {
   "cell_type": "markdown",
   "metadata": {},
   "source": [
    "# How to run this code\n",
    "\n",
    "## Prerequisites\n",
    "\n",
    "- Install Python: https://www.python.org/downloads/\n",
    "- Install IPython: `pip3 install ipython`\n",
    "- Install Jupyter Notebook: `pip3 install notebook`\n"
   ]
  },
  {
   "cell_type": "code",
   "execution_count": null,
   "metadata": {
    "vscode": {
     "languageId": "plaintext"
    }
   },
   "outputs": [],
   "source": [
    "print(\"Hello Python\")"
   ]
  }
 ],
 "metadata": {
  "language_info": {
   "name": "python"
  }
 },
 "nbformat": 4,
 "nbformat_minor": 2
}
